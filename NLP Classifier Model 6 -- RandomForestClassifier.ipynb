{
 "cells": [
  {
   "cell_type": "code",
   "execution_count": 1,
   "id": "d41870d3",
   "metadata": {},
   "outputs": [],
   "source": [
    "import pandas as pd\n",
    "from sklearn.model_selection import train_test_split\n",
    "from sklearn.metrics import accuracy_score, confusion_matrix, f1_score, recall_score\n",
    "import numpy as np\n",
    "import matplotlib.pyplot as plt\n",
    "from sklearn.feature_extraction.text import CountVectorizer, TfidfVectorizer\n",
    "from sklearn.feature_extraction.text import TfidfTransformer\n",
    "import seaborn as sns\n",
    "from sklearn.metrics import confusion_matrix\n",
    "import seaborn as sns"
   ]
  },
  {
   "cell_type": "code",
   "execution_count": 2,
   "id": "410f8eeb",
   "metadata": {},
   "outputs": [],
   "source": [
    "Titles_Relabeled_3 = pd.read_csv('Titles_English_Relabeled_3.csv')"
   ]
  },
  {
   "cell_type": "code",
   "execution_count": 3,
   "id": "6a5ba820",
   "metadata": {},
   "outputs": [],
   "source": [
    "Titles_Relabeled_3 = Titles_Relabeled_3.drop('Unnamed: 0', axis=1)\n",
    "Titles_Relabeled_3['EAN'] = Titles_Relabeled_3['EAN'].astype(str)"
   ]
  },
  {
   "cell_type": "code",
   "execution_count": 4,
   "id": "6b5b9bf0",
   "metadata": {},
   "outputs": [
    {
     "data": {
      "text/plain": [
       "(300359, 3830)"
      ]
     },
     "execution_count": 4,
     "metadata": {},
     "output_type": "execute_result"
    }
   ],
   "source": [
    "tfidf = TfidfVectorizer(sublinear_tf=True, min_df=1000, ngram_range=(1,2), stop_words='english')\n",
    "features = tfidf.fit_transform(Titles_Relabeled_3['Annotation Text']).toarray()\n",
    "labels = Titles_Relabeled_3.Category\n",
    "features.shape"
   ]
  },
  {
   "cell_type": "code",
   "execution_count": 5,
   "id": "6f297b1c",
   "metadata": {},
   "outputs": [],
   "source": [
    "Titles_train, Titles_test = train_test_split(Titles_Relabeled_3, random_state=42)"
   ]
  },
  {
   "cell_type": "code",
   "execution_count": 6,
   "id": "3e73ae66",
   "metadata": {
    "scrolled": true
   },
   "outputs": [
    {
     "name": "stdout",
     "output_type": "stream",
     "text": [
      "Model accuracy: 79.27%\n",
      "F1 score: 0.81\n",
      "Recall: 0.77\n",
      "                    EAN                                              Title  \\\n",
      "272607  9781910000000.0  Dancing Bear                                  ...   \n",
      "40303   9781650000000.0  Life of General Ulysses S. Grant: Containing a...   \n",
      "172631  9781380000000.0  Adam's Illustrated Guide to Rye (with map): Wi...   \n",
      "286961  9781650000000.0  Angela's Letter                               ...   \n",
      "191935  9781380000000.0  Memoirs of a Professional Lady Nurse          ...   \n",
      "...                 ...                                                ...   \n",
      "182491  9781610000000.0  Feeling Special                               ...   \n",
      "23941   9781790000000.0  My Father's People                            ...   \n",
      "2172    9781640000000.0  Every Kid's Guide to Coping with Childhood Tra...   \n",
      "114632  9781650000000.0  Nevermore...                                  ...   \n",
      "153901  9781610000000.0  Sea Pictures, Op.37: Vocal score (Urtext)     ...   \n",
      "\n",
      "                                          Annotation Text MJR BISAC  \\\n",
      "272607  'You don't want to mind about any of this, ' s...       BIO   \n",
      "40303   \"General Grant is emphatically a man, not of w...       LCO   \n",
      "172631  This work has been selected by scholars as bei...       HIS   \n",
      "286961  They say one never forgets his or her first lo...       FIC   \n",
      "191935  This work has been selected by scholars as bei...       HIS   \n",
      "...                                                   ...       ...   \n",
      "182491  Very Vanilla Bean ice cream doesn't feel very ...       JUV   \n",
      "23941   'Who am I? What are my roots?' These are quest...       REF   \n",
      "2172    Every Kid's Guide to Coping With Childhood Tra...       EDU   \n",
      "114632  Victoria Dahl is a self-made multi-billionaire...       FIC   \n",
      "153901  Composed for the Norfolk and Norwich Festival,...       MUS   \n",
      "\n",
      "        Predicted Category  Confidence Score  \n",
      "272607                   1           0.55000  \n",
      "40303                    1           0.90000  \n",
      "172631                   1           1.00000  \n",
      "286961                   0           0.89000  \n",
      "191935                   1           1.00000  \n",
      "...                    ...               ...  \n",
      "182491                   0           0.87000  \n",
      "23941                    0           0.55782  \n",
      "2172                     1           0.87000  \n",
      "114632                   0           0.74000  \n",
      "153901                   1           0.78000  \n",
      "\n",
      "[75090 rows x 6 columns]\n"
     ]
    }
   ],
   "source": [
    "from sklearn.preprocessing import MaxAbsScaler\n",
    "from sklearn.ensemble import RandomForestClassifier\n",
    "\n",
    "from sklearn.preprocessing import MaxAbsScaler\n",
    "\n",
    "# Split the data\n",
    "X_train, X_test, y_train, y_test = train_test_split(features, labels, random_state=42)\n",
    "\n",
    "# Initialize the MaxAbsScaler\n",
    "scaler = MaxAbsScaler()\n",
    "\n",
    "# Fit on the training data and transform the training data\n",
    "X_train_scaled = scaler.fit_transform(X_train)\n",
    "\n",
    "# Just transform the test data\n",
    "X_test_scaled = scaler.transform(X_test)\n",
    "\n",
    "# Train the RandomForestClassifier model on the scaled data\n",
    "rf_classifier = RandomForestClassifier(class_weight = 'balanced', random_state=42)\n",
    "rf_classifier.fit(X_train_scaled, y_train)\n",
    "\n",
    "# Get the predicted labels and probabilities on the scaled test data\n",
    "y_pred = rf_classifier.predict(X_test_scaled)\n",
    "y_pred_proba = rf_classifier.predict_proba(X_test_scaled)\n",
    "\n",
    "# Calculate accuracy\n",
    "accuracy = accuracy_score(y_test, y_pred)\n",
    "print(f'Model accuracy: {accuracy*100:.2f}%')\n",
    "\n",
    "# Calculate F1 score\n",
    "f1 = f1_score(y_test, y_pred)\n",
    "print(f'F1 score: {f1:.2f}')\n",
    "\n",
    "# Calculate recall\n",
    "recall = recall_score(y_test, y_pred)\n",
    "print(f'Recall: {recall:.2f}')\n",
    "\n",
    "# Create a dataframe with the predicted labels and maximum probabilities (confidence scores)\n",
    "results_df = pd.DataFrame({\n",
    "    'Predicted Category': y_pred,\n",
    "    'Confidence Score': np.max(y_pred_proba, axis=1)\n",
    "}, index=Titles_test.index)  # use the same indices as in Titles_test\n",
    "\n",
    "# Add the 'Annotation Text' column to the results\n",
    "results_df = Titles_test[['EAN', 'Title', 'Annotation Text', 'MJR BISAC']].join(results_df)\n",
    "\n",
    "# Print the results\n",
    "print(results_df)"
   ]
  },
  {
   "cell_type": "code",
   "execution_count": 7,
   "id": "23dc14e3",
   "metadata": {},
   "outputs": [
    {
     "data": {
      "image/png": "[encoded data removed]",
      "text/plain": [
       "<Figure size 640x480 with 2 Axes>"
      ]
     },
     "metadata": {},
     "output_type": "display_data"
    }
   ],
   "source": [
    "# Create a confusion matrix\n",
    "cm = confusion_matrix(y_test, y_pred)\n",
    "\n",
    "# Normalize the confusion matrix\n",
    "cm_normalized = cm.astype('float') / cm.sum(axis=1)[:, np.newaxis]\n",
    "\n",
    "# Plot the confusion matrix as a heatmap\n",
    "sns.heatmap(cm_normalized, annot=True, cmap='Blues')\n",
    "plt.xlabel('Predicted')\n",
    "plt.ylabel('True')\n",
    "plt.title('Normalized Confusion Matrix')\n",
    "plt.show()"
   ]
  },
  {
   "cell_type": "code",
   "execution_count": null,
   "id": "10422379",
   "metadata": {},
   "outputs": [],
   "source": []
  }
 ],
 "metadata": {
  "kernelspec": {
   "display_name": "Python 3 (ipykernel)",
   "language": "python",
   "name": "python3"
  },
  "language_info": {
   "codemirror_mode": {
    "name": "ipython",
    "version": 3
   },
   "file_extension": ".py",
   "mimetype": "text/x-python",
   "name": "python",
   "nbconvert_exporter": "python",
   "pygments_lexer": "ipython3",
   "version": "3.9.16"
  }
 },
 "nbformat": 4,
 "nbformat_minor": 5
}
