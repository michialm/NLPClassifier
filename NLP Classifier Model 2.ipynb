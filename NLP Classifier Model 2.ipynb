{
 "cells": [
  {
   "cell_type": "code",
   "execution_count": 1,
   "id": "7b2e024c",
   "metadata": {},
   "outputs": [],
   "source": [
    "import pandas as pd\n",
    "from sklearn.model_selection import train_test_split\n",
    "from sklearn.metrics import accuracy_score, confusion_matrix\n",
    "import numpy as np\n",
    "import matplotlib.pyplot as plt\n",
    "from sklearn.feature_extraction.text import CountVectorizer, TfidfVectorizer\n",
    "from sklearn.feature_extraction.text import TfidfTransformer\n",
    "import seaborn as sns\n",
    "from sklearn.metrics.pairwise import cosine_similarity"
   ]
  },
  {
   "cell_type": "code",
   "execution_count": 2,
   "id": "634b3729",
   "metadata": {},
   "outputs": [],
   "source": [
    "Titles = pd.read_csv('Titles_English.csv')"
   ]
  },
  {
   "cell_type": "code",
   "execution_count": 3,
   "id": "da343cb2",
   "metadata": {},
   "outputs": [
    {
     "name": "stdout",
     "output_type": "stream",
     "text": [
      "<class 'pandas.core.frame.DataFrame'>\n",
      "RangeIndex: 300359 entries, 0 to 300358\n",
      "Data columns (total 9 columns):\n",
      " #   Column                Non-Null Count   Dtype \n",
      "---  ------                --------------   ----- \n",
      " 0   Unnamed: 0            300359 non-null  int64 \n",
      " 1   EAN                   300359 non-null  int64 \n",
      " 2   Title                 300359 non-null  object\n",
      " 3   Ingram Category Code  298878 non-null  object\n",
      " 4   MJR BISAC             300359 non-null  object\n",
      " 5   BISAC                 300359 non-null  object\n",
      " 6   Annotation Text       300359 non-null  object\n",
      " 7   Category              300359 non-null  int64 \n",
      " 8   language_detected     300359 non-null  object\n",
      "dtypes: int64(3), object(6)\n",
      "memory usage: 20.6+ MB\n"
     ]
    }
   ],
   "source": [
    "Titles.info()"
   ]
  },
  {
   "cell_type": "code",
   "execution_count": 4,
   "id": "bc8e75dc",
   "metadata": {},
   "outputs": [],
   "source": [
    "Titles = Titles.drop('Unnamed: 0', axis=1)\n",
    "Titles['EAN'] = Titles['EAN'].astype(str)"
   ]
  },
  {
   "cell_type": "code",
   "execution_count": 5,
   "id": "ced9db4a",
   "metadata": {},
   "outputs": [
    {
     "data": {
      "text/plain": [
       "(300359, 3272)"
      ]
     },
     "execution_count": 5,
     "metadata": {},
     "output_type": "execute_result"
    }
   ],
   "source": [
    "tfidf = TfidfVectorizer(sublinear_tf=True, min_df=1000, ngram_range=(1,1), stop_words='english')\n",
    "features = tfidf.fit_transform(Titles['Annotation Text']).toarray()\n",
    "labels = Titles.Category\n",
    "features.shape"
   ]
  },
  {
   "cell_type": "code",
   "execution_count": 6,
   "id": "6894a6cf",
   "metadata": {},
   "outputs": [],
   "source": [
    "Titles_train, Titles_test = train_test_split(Titles, random_state=42)"
   ]
  },
  {
   "cell_type": "code",
   "execution_count": 7,
   "id": "b7435b75",
   "metadata": {},
   "outputs": [
    {
     "name": "stderr",
     "output_type": "stream",
     "text": [
      "C:\\Users\\Pupnsuds90\\anaconda3\\lib\\site-packages\\sklearn\\linear_model\\_logistic.py:458: ConvergenceWarning: lbfgs failed to converge (status=1):\n",
      "STOP: TOTAL NO. of ITERATIONS REACHED LIMIT.\n",
      "\n",
      "Increase the number of iterations (max_iter) or scale the data as shown in:\n",
      "    https://scikit-learn.org/stable/modules/preprocessing.html\n",
      "Please also refer to the documentation for alternative solver options:\n",
      "    https://scikit-learn.org/stable/modules/linear_model.html#logistic-regression\n",
      "  n_iter_i = _check_optimize_result(\n"
     ]
    },
    {
     "name": "stdout",
     "output_type": "stream",
     "text": [
      "Model accuracy: 71.16%\n",
      "                  EAN                                              Title  \\\n",
      "272607  9781911413790  Dancing Bear                                  ...   \n",
      "40303   9781646792375  Life of General Ulysses S. Grant: Containing a...   \n",
      "172631  9781376644197  Adam's Illustrated Guide to Rye (with map): Wi...   \n",
      "286961  9781649791696  Angela's Letter                               ...   \n",
      "191935  9781377360799  Memoirs of a Professional Lady Nurse          ...   \n",
      "...               ...                                                ...   \n",
      "182491  9781614938200  Feeling Special                               ...   \n",
      "23941   9781786234254  My Father's People                            ...   \n",
      "2172    9781636171784  Every Kid's Guide to Coping with Childhood Tra...   \n",
      "114632  9781647185596  Nevermore...                                  ...   \n",
      "153901  9781608741144  Sea Pictures, Op.37: Vocal score (Urtext)     ...   \n",
      "\n",
      "                                          Annotation Text MJR BISAC  \\\n",
      "272607  'You don't want to mind about any of this, ' s...       BIO   \n",
      "40303   \"General Grant is emphatically a man, not of w...       LCO   \n",
      "172631  This work has been selected by scholars as bei...       HIS   \n",
      "286961  They say one never forgets his or her first lo...       FIC   \n",
      "191935  This work has been selected by scholars as bei...       HIS   \n",
      "...                                                   ...       ...   \n",
      "182491  Very Vanilla Bean ice cream doesn't feel very ...       JUV   \n",
      "23941   'Who am I? What are my roots?' These are quest...       REF   \n",
      "2172    Every Kid's Guide to Coping With Childhood Tra...       EDU   \n",
      "114632  Victoria Dahl is a self-made multi-billionaire...       FIC   \n",
      "153901  Composed for the Norfolk and Norwich Festival,...       MUS   \n",
      "\n",
      "        Predicted Category  Confidence Score  \n",
      "272607                   1          0.534544  \n",
      "40303                    1          0.730742  \n",
      "172631                   0          0.880194  \n",
      "286961                   0          0.739696  \n",
      "191935                   0          0.880194  \n",
      "...                    ...               ...  \n",
      "182491                   0          0.520778  \n",
      "23941                    1          0.602315  \n",
      "2172                     0          0.684558  \n",
      "114632                   0          0.557919  \n",
      "153901                   1          0.930648  \n",
      "\n",
      "[75090 rows x 6 columns]\n"
     ]
    }
   ],
   "source": [
    "from sklearn.preprocessing import MaxAbsScaler\n",
    "from sklearn.linear_model import LogisticRegression\n",
    "\n",
    "from sklearn.preprocessing import MaxAbsScaler\n",
    "\n",
    "# Split the data\n",
    "X_train, X_test, y_train, y_test = train_test_split(features, labels, random_state=42)\n",
    "\n",
    "# Initialize the MaxAbsScaler\n",
    "scaler = MaxAbsScaler()\n",
    "\n",
    "# Fit on the training data and transform the training data\n",
    "X_train_scaled = scaler.fit_transform(X_train)\n",
    "\n",
    "# Just transform the test data\n",
    "X_test_scaled = scaler.transform(X_test)\n",
    "\n",
    "# Train the Logistic Regression model on the scaled data\n",
    "logreg = LogisticRegression(random_state=42)\n",
    "logreg.fit(X_train_scaled, y_train)\n",
    "\n",
    "# Get the predicted labels and probabilities on the scaled test data\n",
    "y_pred = logreg.predict(X_test_scaled)\n",
    "y_pred_proba = logreg.predict_proba(X_test_scaled)\n",
    "\n",
    "# Calculate accuracy\n",
    "accuracy = accuracy_score(y_test, y_pred)\n",
    "print(f'Model accuracy: {accuracy*100:.2f}%')\n",
    "\n",
    "# Create a dataframe with the predicted labels and maximum probabilities (confidence scores)\n",
    "results_df = pd.DataFrame({\n",
    "    'Predicted Category': y_pred,\n",
    "    'Confidence Score': np.max(y_pred_proba, axis=1)\n",
    "}, index=Titles_test.index)  # use the same indices as in Titles_test\n",
    "\n",
    "# Add the 'Annotation Text' column to the results\n",
    "results_df = Titles_test[['EAN', 'Title', 'Annotation Text', 'MJR BISAC']].join(results_df)\n",
    "\n",
    "# Print the results\n",
    "print(results_df)"
   ]
  },
  {
   "cell_type": "code",
   "execution_count": 8,
   "id": "3f113575",
   "metadata": {},
   "outputs": [],
   "source": [
    "results_df.to_csv('Model_2.csv')"
   ]
  }
 ],
 "metadata": {
  "kernelspec": {
   "display_name": "Python 3 (ipykernel)",
   "language": "python",
   "name": "python3"
  },
  "language_info": {
   "codemirror_mode": {
    "name": "ipython",
    "version": 3
   },
   "file_extension": ".py",
   "mimetype": "text/x-python",
   "name": "python",
   "nbconvert_exporter": "python",
   "pygments_lexer": "ipython3",
   "version": "3.9.16"
  }
 },
 "nbformat": 4,
 "nbformat_minor": 5
}
