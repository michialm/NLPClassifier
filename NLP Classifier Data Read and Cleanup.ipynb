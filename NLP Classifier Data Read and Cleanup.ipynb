{
 "cells": [
  {
   "cell_type": "code",
   "execution_count": 1,
   "id": "2722fc4a",
   "metadata": {},
   "outputs": [],
   "source": [
    "#Read in Libraries necessary for cleaning"
   ]
  },
  {
   "cell_type": "code",
   "execution_count": 2,
   "id": "95e3e910",
   "metadata": {},
   "outputs": [],
   "source": [
    "import pandas as pd\n",
    "import numpy as np\n",
    "import matplotlib.pyplot as plt\n",
    "from nltk.tokenize import sent_tokenize, word_tokenize, regexp_tokenize\n",
    "import nltk\n",
    "import seaborn as sns\n",
    "from spacy.lang.en import English\n",
    "from langdetect import detect\n",
    "from transformers import pipeline\n",
    "from transformers import AutoTokenizer, AutoModelForSequenceClassification"
   ]
  },
  {
   "cell_type": "code",
   "execution_count": 3,
   "id": "de5ef984",
   "metadata": {},
   "outputs": [
    {
     "name": "stderr",
     "output_type": "stream",
     "text": [
      "C:\\Users\\Pupnsuds90\\AppData\\Local\\Temp\\ipykernel_1900\\3995532456.py:1: DtypeWarning: Columns (2) have mixed types. Specify dtype option on import or set low_memory=False.\n",
      "  Titles = pd.read_csv('Total_Title_Data.csv')\n"
     ]
    }
   ],
   "source": [
    "Titles = pd.read_csv('Total_Title_Data.csv')"
   ]
  },
  {
   "cell_type": "code",
   "execution_count": 4,
   "id": "ee967cbf",
   "metadata": {},
   "outputs": [
    {
     "name": "stdout",
     "output_type": "stream",
     "text": [
      "<class 'pandas.core.frame.DataFrame'>\n",
      "RangeIndex: 426870 entries, 0 to 426869\n",
      "Data columns (total 9 columns):\n",
      " #   Column                Non-Null Count   Dtype  \n",
      "---  ------                --------------   -----  \n",
      " 0   EAN                   426870 non-null  int64  \n",
      " 1   Title                 426870 non-null  object \n",
      " 2   Alt Vend              426870 non-null  object \n",
      " 3   Ingram Category Code  425121 non-null  object \n",
      " 4   MJR BISAC             426870 non-null  object \n",
      " 5   BISAC                 426870 non-null  object \n",
      " 6   List                  426870 non-null  float64\n",
      " 7   Annotation            426870 non-null  object \n",
      " 8   Category              426870 non-null  int64  \n",
      "dtypes: float64(1), int64(2), object(6)\n",
      "memory usage: 29.3+ MB\n"
     ]
    }
   ],
   "source": [
    "Titles.info()"
   ]
  },
  {
   "cell_type": "code",
   "execution_count": 5,
   "id": "79a7a383",
   "metadata": {},
   "outputs": [],
   "source": [
    "Titles['EAN'] = Titles['EAN'].astype('str')\n",
    "Titles['Title'] = Titles['Title'].astype('str')\n",
    "Titles['Alt Vend'] = Titles['Alt Vend'].astype('str')\n",
    "Titles['Ingram Category Code'] = Titles['Ingram Category Code'].astype('str')\n",
    "Titles['MJR BISAC'] = Titles['MJR BISAC'].astype('str')\n",
    "Titles['Annotation'] = Titles['Annotation'].astype('str')\n",
    "Titles['Category'] = Titles['Category'].astype('str')"
   ]
  },
  {
   "cell_type": "code",
   "execution_count": 6,
   "id": "26ba1c91",
   "metadata": {},
   "outputs": [
    {
     "name": "stdout",
     "output_type": "stream",
     "text": [
      "<class 'pandas.core.frame.DataFrame'>\n",
      "RangeIndex: 426870 entries, 0 to 426869\n",
      "Data columns (total 9 columns):\n",
      " #   Column                Non-Null Count   Dtype  \n",
      "---  ------                --------------   -----  \n",
      " 0   EAN                   426870 non-null  object \n",
      " 1   Title                 426870 non-null  object \n",
      " 2   Alt Vend              426870 non-null  object \n",
      " 3   Ingram Category Code  426870 non-null  object \n",
      " 4   MJR BISAC             426870 non-null  object \n",
      " 5   BISAC                 426870 non-null  object \n",
      " 6   List                  426870 non-null  float64\n",
      " 7   Annotation            426870 non-null  object \n",
      " 8   Category              426870 non-null  object \n",
      "dtypes: float64(1), object(8)\n",
      "memory usage: 29.3+ MB\n"
     ]
    }
   ],
   "source": [
    "Titles.info()"
   ]
  },
  {
   "cell_type": "code",
   "execution_count": 7,
   "id": "9fe58991",
   "metadata": {
    "scrolled": true
   },
   "outputs": [
    {
     "data": {
      "text/html": [
       "<div>\n",
       "<style scoped>\n",
       "    .dataframe tbody tr th:only-of-type {\n",
       "        vertical-align: middle;\n",
       "    }\n",
       "\n",
       "    .dataframe tbody tr th {\n",
       "        vertical-align: top;\n",
       "    }\n",
       "\n",
       "    .dataframe thead th {\n",
       "        text-align: right;\n",
       "    }\n",
       "</style>\n",
       "<table border=\"1\" class=\"dataframe\">\n",
       "  <thead>\n",
       "    <tr style=\"text-align: right;\">\n",
       "      <th></th>\n",
       "      <th>EAN</th>\n",
       "      <th>Title</th>\n",
       "      <th>Alt Vend</th>\n",
       "      <th>Ingram Category Code</th>\n",
       "      <th>MJR BISAC</th>\n",
       "      <th>BISAC</th>\n",
       "      <th>List</th>\n",
       "      <th>Annotation</th>\n",
       "      <th>Category</th>\n",
       "    </tr>\n",
       "  </thead>\n",
       "  <tbody>\n",
       "    <tr>\n",
       "      <th>0</th>\n",
       "      <td>9781803143057</td>\n",
       "      <td>Murder at the Country Club: An absolutely unpu...</td>\n",
       "      <td>6072814</td>\n",
       "      <td>FR</td>\n",
       "      <td>FIC</td>\n",
       "      <td>FIC027110</td>\n",
       "      <td>9.99</td>\n",
       "      <td>&lt;p&gt;&lt;strong&gt;Kitty Underhay is playing doubles.....</td>\n",
       "      <td>1</td>\n",
       "    </tr>\n",
       "    <tr>\n",
       "      <th>1</th>\n",
       "      <td>9798440995017</td>\n",
       "      <td>From Sandpaper To Silk (Book One)             ...</td>\n",
       "      <td>6107230</td>\n",
       "      <td>OP</td>\n",
       "      <td>OCC</td>\n",
       "      <td>OCC000000</td>\n",
       "      <td>15.00</td>\n",
       "      <td>This is a very suspenseful, engaging, and rive...</td>\n",
       "      <td>1</td>\n",
       "    </tr>\n",
       "    <tr>\n",
       "      <th>2</th>\n",
       "      <td>9798885362184</td>\n",
       "      <td>Jason Lang &amp; the iTunes Scandals: The Real-Lif...</td>\n",
       "      <td>6110949</td>\n",
       "      <td>BA</td>\n",
       "      <td>BIO</td>\n",
       "      <td>BIO000000</td>\n",
       "      <td>9.99</td>\n",
       "      <td>&lt;p&gt;Real Life Story About the Gilgo Beach Murde...</td>\n",
       "      <td>1</td>\n",
       "    </tr>\n",
       "    <tr>\n",
       "      <th>3</th>\n",
       "      <td>9781636160887</td>\n",
       "      <td>Izzie's Incredible Imagination                ...</td>\n",
       "      <td>9269037</td>\n",
       "      <td>CL</td>\n",
       "      <td>JUV</td>\n",
       "      <td>JUV001000</td>\n",
       "      <td>9.99</td>\n",
       "      <td>&lt;p&gt;Whether you are floating in space or riding...</td>\n",
       "      <td>1</td>\n",
       "    </tr>\n",
       "    <tr>\n",
       "      <th>4</th>\n",
       "      <td>9781803810324</td>\n",
       "      <td>Zeppelins in the Searchlights, Sisters of Merc...</td>\n",
       "      <td>6027623</td>\n",
       "      <td>BA</td>\n",
       "      <td>BIO</td>\n",
       "      <td>BIO026000</td>\n",
       "      <td>9.50</td>\n",
       "      <td>&lt;p&gt;Born in 1909 in Hull, Bernard recalls how h...</td>\n",
       "      <td>1</td>\n",
       "    </tr>\n",
       "  </tbody>\n",
       "</table>\n",
       "</div>"
      ],
      "text/plain": [
       "             EAN                                              Title Alt Vend  \\\n",
       "0  9781803143057  Murder at the Country Club: An absolutely unpu...  6072814   \n",
       "1  9798440995017  From Sandpaper To Silk (Book One)             ...  6107230   \n",
       "2  9798885362184  Jason Lang & the iTunes Scandals: The Real-Lif...  6110949   \n",
       "3  9781636160887  Izzie's Incredible Imagination                ...  9269037   \n",
       "4  9781803810324  Zeppelins in the Searchlights, Sisters of Merc...  6027623   \n",
       "\n",
       "  Ingram Category Code MJR BISAC      BISAC   List  \\\n",
       "0                   FR       FIC  FIC027110   9.99   \n",
       "1                   OP       OCC  OCC000000  15.00   \n",
       "2                   BA       BIO  BIO000000   9.99   \n",
       "3                   CL       JUV  JUV001000   9.99   \n",
       "4                   BA       BIO  BIO026000   9.50   \n",
       "\n",
       "                                          Annotation Category  \n",
       "0  <p><strong>Kitty Underhay is playing doubles.....        1  \n",
       "1  This is a very suspenseful, engaging, and rive...        1  \n",
       "2  <p>Real Life Story About the Gilgo Beach Murde...        1  \n",
       "3  <p>Whether you are floating in space or riding...        1  \n",
       "4  <p>Born in 1909 in Hull, Bernard recalls how h...        1  "
      ]
     },
     "execution_count": 7,
     "metadata": {},
     "output_type": "execute_result"
    }
   ],
   "source": [
    "Titles.head()"
   ]
  },
  {
   "cell_type": "code",
   "execution_count": 8,
   "id": "466f7782",
   "metadata": {},
   "outputs": [
    {
     "name": "stderr",
     "output_type": "stream",
     "text": [
      "C:\\Users\\Pupnsuds90\\anaconda3\\lib\\site-packages\\bs4\\__init__.py:435: MarkupResemblesLocatorWarning: The input looks more like a filename than markup. You may want to open this file and pass the filehandle into Beautiful Soup.\n",
      "  warnings.warn(\n"
     ]
    }
   ],
   "source": [
    "from bs4 import BeautifulSoup\n",
    "\n",
    "def remove_html_tags(text):\n",
    "    soup = BeautifulSoup(text, \"html.parser\")\n",
    "    return soup.get_text()\n",
    "\n",
    "Titles['Annotation Text'] = Titles['Annotation'].apply(remove_html_tags)"
   ]
  },
  {
   "cell_type": "code",
   "execution_count": 11,
   "id": "b7992111",
   "metadata": {
    "scrolled": false
   },
   "outputs": [
    {
     "data": {
      "text/html": [
       "<div>\n",
       "<style scoped>\n",
       "    .dataframe tbody tr th:only-of-type {\n",
       "        vertical-align: middle;\n",
       "    }\n",
       "\n",
       "    .dataframe tbody tr th {\n",
       "        vertical-align: top;\n",
       "    }\n",
       "\n",
       "    .dataframe thead th {\n",
       "        text-align: right;\n",
       "    }\n",
       "</style>\n",
       "<table border=\"1\" class=\"dataframe\">\n",
       "  <thead>\n",
       "    <tr style=\"text-align: right;\">\n",
       "      <th></th>\n",
       "      <th>EAN</th>\n",
       "      <th>Title</th>\n",
       "      <th>Alt Vend</th>\n",
       "      <th>Ingram Category Code</th>\n",
       "      <th>MJR BISAC</th>\n",
       "      <th>BISAC</th>\n",
       "      <th>List</th>\n",
       "      <th>Annotation</th>\n",
       "      <th>Category</th>\n",
       "      <th>Annotation Text</th>\n",
       "    </tr>\n",
       "  </thead>\n",
       "  <tbody>\n",
       "    <tr>\n",
       "      <th>0</th>\n",
       "      <td>9781803143057</td>\n",
       "      <td>Murder at the Country Club: An absolutely unpu...</td>\n",
       "      <td>6072814</td>\n",
       "      <td>FR</td>\n",
       "      <td>FIC</td>\n",
       "      <td>FIC027110</td>\n",
       "      <td>9.99</td>\n",
       "      <td>&lt;p&gt;&lt;strong&gt;Kitty Underhay is playing doubles.....</td>\n",
       "      <td>1</td>\n",
       "      <td>Kitty Underhay is playing doubles... with deat...</td>\n",
       "    </tr>\n",
       "    <tr>\n",
       "      <th>1</th>\n",
       "      <td>9798440995017</td>\n",
       "      <td>From Sandpaper To Silk (Book One)             ...</td>\n",
       "      <td>6107230</td>\n",
       "      <td>OP</td>\n",
       "      <td>OCC</td>\n",
       "      <td>OCC000000</td>\n",
       "      <td>15.00</td>\n",
       "      <td>This is a very suspenseful, engaging, and rive...</td>\n",
       "      <td>1</td>\n",
       "      <td>This is a very suspenseful, engaging, and rive...</td>\n",
       "    </tr>\n",
       "    <tr>\n",
       "      <th>2</th>\n",
       "      <td>9798885362184</td>\n",
       "      <td>Jason Lang &amp; the iTunes Scandals: The Real-Lif...</td>\n",
       "      <td>6110949</td>\n",
       "      <td>BA</td>\n",
       "      <td>BIO</td>\n",
       "      <td>BIO000000</td>\n",
       "      <td>9.99</td>\n",
       "      <td>&lt;p&gt;Real Life Story About the Gilgo Beach Murde...</td>\n",
       "      <td>1</td>\n",
       "      <td>Real Life Story About the Gilgo Beach Murders ...</td>\n",
       "    </tr>\n",
       "    <tr>\n",
       "      <th>3</th>\n",
       "      <td>9781636160887</td>\n",
       "      <td>Izzie's Incredible Imagination                ...</td>\n",
       "      <td>9269037</td>\n",
       "      <td>CL</td>\n",
       "      <td>JUV</td>\n",
       "      <td>JUV001000</td>\n",
       "      <td>9.99</td>\n",
       "      <td>&lt;p&gt;Whether you are floating in space or riding...</td>\n",
       "      <td>1</td>\n",
       "      <td>Whether you are floating in space or riding a ...</td>\n",
       "    </tr>\n",
       "    <tr>\n",
       "      <th>4</th>\n",
       "      <td>9781803810324</td>\n",
       "      <td>Zeppelins in the Searchlights, Sisters of Merc...</td>\n",
       "      <td>6027623</td>\n",
       "      <td>BA</td>\n",
       "      <td>BIO</td>\n",
       "      <td>BIO026000</td>\n",
       "      <td>9.50</td>\n",
       "      <td>&lt;p&gt;Born in 1909 in Hull, Bernard recalls how h...</td>\n",
       "      <td>1</td>\n",
       "      <td>Born in 1909 in Hull, Bernard recalls how he s...</td>\n",
       "    </tr>\n",
       "  </tbody>\n",
       "</table>\n",
       "</div>"
      ],
      "text/plain": [
       "             EAN                                              Title Alt Vend  \\\n",
       "0  9781803143057  Murder at the Country Club: An absolutely unpu...  6072814   \n",
       "1  9798440995017  From Sandpaper To Silk (Book One)             ...  6107230   \n",
       "2  9798885362184  Jason Lang & the iTunes Scandals: The Real-Lif...  6110949   \n",
       "3  9781636160887  Izzie's Incredible Imagination                ...  9269037   \n",
       "4  9781803810324  Zeppelins in the Searchlights, Sisters of Merc...  6027623   \n",
       "\n",
       "  Ingram Category Code MJR BISAC      BISAC   List  \\\n",
       "0                   FR       FIC  FIC027110   9.99   \n",
       "1                   OP       OCC  OCC000000  15.00   \n",
       "2                   BA       BIO  BIO000000   9.99   \n",
       "3                   CL       JUV  JUV001000   9.99   \n",
       "4                   BA       BIO  BIO026000   9.50   \n",
       "\n",
       "                                          Annotation Category  \\\n",
       "0  <p><strong>Kitty Underhay is playing doubles.....        1   \n",
       "1  This is a very suspenseful, engaging, and rive...        1   \n",
       "2  <p>Real Life Story About the Gilgo Beach Murde...        1   \n",
       "3  <p>Whether you are floating in space or riding...        1   \n",
       "4  <p>Born in 1909 in Hull, Bernard recalls how h...        1   \n",
       "\n",
       "                                     Annotation Text  \n",
       "0  Kitty Underhay is playing doubles... with deat...  \n",
       "1  This is a very suspenseful, engaging, and rive...  \n",
       "2  Real Life Story About the Gilgo Beach Murders ...  \n",
       "3  Whether you are floating in space or riding a ...  \n",
       "4  Born in 1909 in Hull, Bernard recalls how he s...  "
      ]
     },
     "execution_count": 11,
     "metadata": {},
     "output_type": "execute_result"
    }
   ],
   "source": [
    "Titles.head()"
   ]
  },
  {
   "cell_type": "code",
   "execution_count": 10,
   "id": "288c82c3",
   "metadata": {},
   "outputs": [],
   "source": [
    "Titles['Annotation Text'] = Titles['Annotation Text'].astype('str')"
   ]
  },
  {
   "cell_type": "code",
   "execution_count": 12,
   "id": "998a22ad",
   "metadata": {},
   "outputs": [],
   "source": [
    "#Detecting Language by Title to Eliminate non-English titles from dataset\n",
    "#tokenizer = AutoTokenizer.from_pretrained(\"papluca/xlm-roberta-base-language-detection\")\n",
    "\n",
    "#papluca = AutoModelForSequenceClassification.from_pretrained(\"papluca/xlm-roberta-base-language-detection\")\n",
    "\n",
    "#Titles['PredictedLanguage'] = ''\n",
    "#Titles['LanguageConfidence'] = 0.0\n",
    "\n",
    "#def predict_language(text):\n",
    "    #inputs = tokenizer(text, truncation=True, padding=True, return_tensors=\"pt\")\n",
    "   # outputs = papluca(**inputs)\n",
    "   # predicted_language = paplu.decode(outputs.logits.argmax(dim=1))\n",
    "   # confidence = outputs.logits.softmax(dim=1).max().item()\n",
    "   # return predicted_language, confidence\n",
    "\n",
    "#for index, row in Titles.iterrows():\n",
    "   # title = row['Annotation Text']\n",
    "    \n",
    "   # predicted_language, confidence = predict_language(title)\n",
    "    \n",
    "    #Titles.at[index, 'PredictedLanguage'] = predicted_language\n",
    "   # Titles.at[index, 'LanguageConfidence'] = confidence\n",
    "    \n",
    "        "
   ]
  },
  {
   "cell_type": "code",
   "execution_count": 13,
   "id": "5b498e0e",
   "metadata": {
    "scrolled": true
   },
   "outputs": [],
   "source": [
    "pipe = pipeline(\"text-classification\", model=\"papluca/xlm-roberta-base-language-detection\")"
   ]
  },
  {
   "cell_type": "code",
   "execution_count": 66,
   "id": "0f3b2727",
   "metadata": {},
   "outputs": [
    {
     "data": {
      "text/plain": [
       "[{'label': 'es', 'score': 0.9775945544242859}]"
      ]
     },
     "execution_count": 66,
     "metadata": {},
     "output_type": "execute_result"
    }
   ],
   "source": [
    "pipe()"
   ]
  },
  {
   "cell_type": "code",
   "execution_count": 47,
   "id": "01205f98",
   "metadata": {},
   "outputs": [
    {
     "data": {
      "text/plain": [
       "'.'"
      ]
     },
     "execution_count": 47,
     "metadata": {},
     "output_type": "execute_result"
    }
   ],
   "source": [
    "predicted_language"
   ]
  },
  {
   "cell_type": "code",
   "execution_count": 45,
   "id": "12c69d05",
   "metadata": {},
   "outputs": [
    {
     "data": {
      "text/plain": [
       "'Victor Scarinzi, a self-described Italian redneck, shares stories that range from daydreaming as a boy, to getting into trouble as a teenager, to learning the lessons of adulthood in this collection of memoirs. It was by spending time in nature that he became convinced that there must be a God, because who else could create the wonderful woods, lakes, mountains, swamps, deserts, and animals that you see in the outdoors? Fishing, hunting, thinking of faraway places, sorting out his dreams, and planning his futureusually with a dog tagging along by his sideare some of what he treasures most. The stories will no doubt make you think of your own happy memories in nature and inspire you to protect the outdoors and all that is in it. Join a simple man as he shares simple dreamsmany of which hes accomplishedand others that he hasnt given up on yet.'"
      ]
     },
     "execution_count": 45,
     "metadata": {},
     "output_type": "execute_result"
    }
   ],
   "source": [
    "Titles.loc[470,'Annotation Text']"
   ]
  },
  {
   "cell_type": "code",
   "execution_count": 20,
   "id": "aef15c22",
   "metadata": {},
   "outputs": [
    {
     "data": {
      "text/plain": [
       "        426630\n",
       "e          216\n",
       "-           12\n",
       "</s>         8\n",
       "n            1\n",
       "(            1\n",
       "de           1\n",
       "a            1\n",
       "Name: PredictedLanguage, dtype: int64"
      ]
     },
     "execution_count": 20,
     "metadata": {},
     "output_type": "execute_result"
    }
   ],
   "source": [
    "Titles['PredictedLanguage'].value_counts()"
   ]
  },
  {
   "cell_type": "code",
   "execution_count": null,
   "id": "f71f1462",
   "metadata": {},
   "outputs": [],
   "source": [
    "import re\n",
    "\n",
    "#Identify Titles in the datset with the code pattern and remove them from the dataframe\n",
    "pattern = r'&#\\d+;'\n",
    "Titles = Titles[~Titles['Column'].str.contains(pattern, regex=True)]\n",
    "\n",
    "#Reset the index of the dataframe\n",
    "Titles = Titles.reset_index(drop=True)"
   ]
  }
 ],
 "metadata": {
  "kernelspec": {
   "display_name": "Python 3 (ipykernel)",
   "language": "python",
   "name": "python3"
  },
  "language_info": {
   "codemirror_mode": {
    "name": "ipython",
    "version": 3
   },
   "file_extension": ".py",
   "mimetype": "text/x-python",
   "name": "python",
   "nbconvert_exporter": "python",
   "pygments_lexer": "ipython3",
   "version": "3.9.16"
  }
 },
 "nbformat": 4,
 "nbformat_minor": 5
}
